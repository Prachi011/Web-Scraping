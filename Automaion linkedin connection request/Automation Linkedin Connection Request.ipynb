{
 "cells": [
  {
   "cell_type": "code",
   "execution_count": 2,
   "id": "21bb421f",
   "metadata": {},
   "outputs": [
    {
     "name": "stderr",
     "output_type": "stream",
     "text": [
      "C:\\Users\\prachi\\AppData\\Local\\Temp\\ipykernel_4732\\899754798.py:7: DeprecationWarning: executable_path has been deprecated, please pass in a Service object\n",
      "  driver=webdriver.Chrome(path)\n"
     ]
    }
   ],
   "source": [
    "from selenium import webdriver\n",
    "from bs4 import BeautifulSoup\n",
    "import chromedriver_binary\n",
    "from selenium.webdriver.common.by import By\n",
    "import time\n",
    "path=chromedriver_binary.chromedriver_filename\n",
    "driver=webdriver.Chrome(path)\n",
    "driver.get('https://www.linkedin.com')\n",
    "time.sleep(2)\n",
    "username = driver.find_element(By.ID,\"session_key\")\n",
    " \n",
    "    # Sending the keys for username     \n",
    "username.send_keys(\"prachib087@gmail.com\")\n",
    " \n",
    "    # Getting the password element                                 \n",
    "password = driver.find_element(By.ID,\"session_password\")\n",
    " \n",
    "    # Sending the keys for password   \n",
    "password.send_keys(\"charubansal\")     \n",
    " \n",
    "    # Getting the tag for submit button                    \n",
    "driver.find_element(By.XPATH, \"//button[@type='submit']\").click()      \n",
    "time.sleep(2)\n",
    "n_pages=4\n",
    "for i in range(2,n_pages+1):\n",
    "    driver.get('https://www.linkedin.com/search/results/people/?network=%5B%22S%22%5D&origin=FACETED_SEARCH&page='+str(i))\n",
    "    time.sleep(2);\n",
    "    all_buttons=driver.find_elements(By.TAG_NAME, \"button\")\n",
    "    connect_buttons=[btn for btn in all_buttons if btn.text=='Connect']\n",
    "    for btn in connect_buttons:\n",
    "    #driver.execute_script(\"argument[0].click();\",btn)\n",
    "        btn.click()\n",
    "        time.sleep(3)\n",
    "        driver.find_element(By.XPATH, \"//button[@aria-label='Send now']\").click()    \n",
    "        time.sleep(2)\n",
    "\n"
   ]
  },
  {
   "cell_type": "code",
   "execution_count": null,
   "id": "be832deb",
   "metadata": {},
   "outputs": [],
   "source": []
  }
 ],
 "metadata": {
  "kernelspec": {
   "display_name": "Python 3 (ipykernel)",
   "language": "python",
   "name": "python3"
  },
  "language_info": {
   "codemirror_mode": {
    "name": "ipython",
    "version": 3
   },
   "file_extension": ".py",
   "mimetype": "text/x-python",
   "name": "python",
   "nbconvert_exporter": "python",
   "pygments_lexer": "ipython3",
   "version": "3.9.13"
  }
 },
 "nbformat": 4,
 "nbformat_minor": 5
}
